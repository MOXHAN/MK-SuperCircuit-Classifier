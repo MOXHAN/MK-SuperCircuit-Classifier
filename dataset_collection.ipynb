{
 "cells": [
  {
   "cell_type": "code",
   "execution_count": 8,
   "id": "afff4755-184a-4813-96f8-b987c3b03b6e",
   "metadata": {},
   "outputs": [],
   "source": [
    "import pandas as pd\n",
    "import os\n",
    "from sklearn.model_selection import train_test_split\n",
    "from PIL import Image"
   ]
  },
  {
   "cell_type": "markdown",
   "id": "f7b61f57-536d-4846-98c0-0c44f13f8d2e",
   "metadata": {},
   "source": [
    "# Create Splits"
   ]
  },
  {
   "cell_type": "code",
   "execution_count": 5,
   "id": "ed8359d6-7248-4601-bd6b-276220115473",
   "metadata": {},
   "outputs": [
    {
     "data": {
      "text/plain": [
       "'game_captures/20241109_153023_827761_forward.jpg'"
      ]
     },
     "execution_count": 5,
     "metadata": {},
     "output_type": "execute_result"
    }
   ],
   "source": [
    "# getting a list of all images in the directory\n",
    "image_paths = []\n",
    "for file in os.listdir(\"game_captures\"):\n",
    "    image_paths.append(os.path.join(\"game_captures\", file))\n",
    "\n",
    "train_paths, test_paths = train_test_split(image_paths, test_size=0.2, random_state=42)\n",
    "train_paths[0]"
   ]
  },
  {
   "cell_type": "markdown",
   "id": "9a8a09f1-a0a8-426f-9f3f-9b96aedb4c09",
   "metadata": {},
   "source": [
    "# Create folder structure"
   ]
  },
  {
   "cell_type": "code",
   "execution_count": 6,
   "id": "4f67aa16-4ab7-4ae4-83ee-2efe9ef1c6cc",
   "metadata": {},
   "outputs": [],
   "source": [
    "os.mkdir(\"data\")\n",
    "os.mkdir(\"data/train\")\n",
    "os.mkdir(\"data/test\")"
   ]
  },
  {
   "cell_type": "markdown",
   "id": "4f169ec9-4e27-4a84-95ae-9cbc1e69656d",
   "metadata": {},
   "source": [
    "# Save images into according folder"
   ]
  },
  {
   "cell_type": "code",
   "execution_count": 9,
   "id": "2280f9cf-59c5-4f9f-a103-3620c0efd8b8",
   "metadata": {},
   "outputs": [],
   "source": [
    "for path in train_paths:\n",
    "    img=Image.open(path)\n",
    "    new_path = \"data/train/\" + path.split(\"/\")[1]\n",
    "    img.save(new_path)"
   ]
  },
  {
   "cell_type": "code",
   "execution_count": 10,
   "id": "6633be76-07d9-42cf-b8bf-ca857a0a08f5",
   "metadata": {},
   "outputs": [],
   "source": [
    "for path in test_paths:\n",
    "    img=Image.open(path)\n",
    "    new_path = \"data/test/\" + path.split(\"/\")[1]\n",
    "    img.save(new_path)"
   ]
  },
  {
   "cell_type": "markdown",
   "id": "d1b72f63-3963-4347-acc6-94de9aa4cc63",
   "metadata": {},
   "source": [
    "# Create label-csv files"
   ]
  },
  {
   "cell_type": "code",
   "execution_count": 23,
   "id": "9b90cdfd-6f29-4f97-9dab-39e4e4bc8346",
   "metadata": {},
   "outputs": [
    {
     "data": {
      "text/html": [
       "<div>\n",
       "<style scoped>\n",
       "    .dataframe tbody tr th:only-of-type {\n",
       "        vertical-align: middle;\n",
       "    }\n",
       "\n",
       "    .dataframe tbody tr th {\n",
       "        vertical-align: top;\n",
       "    }\n",
       "\n",
       "    .dataframe thead th {\n",
       "        text-align: right;\n",
       "    }\n",
       "</style>\n",
       "<table border=\"1\" class=\"dataframe\">\n",
       "  <thead>\n",
       "    <tr style=\"text-align: right;\">\n",
       "      <th></th>\n",
       "      <th>filename</th>\n",
       "      <th>label</th>\n",
       "    </tr>\n",
       "  </thead>\n",
       "  <tbody>\n",
       "    <tr>\n",
       "      <th>0</th>\n",
       "      <td>20241109_154140_357465_left.jpg</td>\n",
       "      <td>left</td>\n",
       "    </tr>\n",
       "    <tr>\n",
       "      <th>0</th>\n",
       "      <td>20241109_153244_515614_forward.jpg</td>\n",
       "      <td>forward</td>\n",
       "    </tr>\n",
       "    <tr>\n",
       "      <th>0</th>\n",
       "      <td>20241109_155201_561275_left.jpg</td>\n",
       "      <td>left</td>\n",
       "    </tr>\n",
       "    <tr>\n",
       "      <th>0</th>\n",
       "      <td>20241109_173502_065252_right.jpg</td>\n",
       "      <td>right</td>\n",
       "    </tr>\n",
       "    <tr>\n",
       "      <th>0</th>\n",
       "      <td>20241109_153901_283809_left.jpg</td>\n",
       "      <td>left</td>\n",
       "    </tr>\n",
       "    <tr>\n",
       "      <th>...</th>\n",
       "      <td>...</td>\n",
       "      <td>...</td>\n",
       "    </tr>\n",
       "    <tr>\n",
       "      <th>0</th>\n",
       "      <td>20241109_154113_051575_left.jpg</td>\n",
       "      <td>left</td>\n",
       "    </tr>\n",
       "    <tr>\n",
       "      <th>0</th>\n",
       "      <td>20241109_153238_569342_right.jpg</td>\n",
       "      <td>right</td>\n",
       "    </tr>\n",
       "    <tr>\n",
       "      <th>0</th>\n",
       "      <td>20241109_154012_547144_forward.jpg</td>\n",
       "      <td>forward</td>\n",
       "    </tr>\n",
       "    <tr>\n",
       "      <th>0</th>\n",
       "      <td>20241109_155215_628791_left.jpg</td>\n",
       "      <td>left</td>\n",
       "    </tr>\n",
       "    <tr>\n",
       "      <th>0</th>\n",
       "      <td>20241109_153224_582456_forward.jpg</td>\n",
       "      <td>forward</td>\n",
       "    </tr>\n",
       "  </tbody>\n",
       "</table>\n",
       "<p>1264 rows × 2 columns</p>\n",
       "</div>"
      ],
      "text/plain": [
       "                              filename    label\n",
       "0      20241109_154140_357465_left.jpg     left\n",
       "0   20241109_153244_515614_forward.jpg  forward\n",
       "0      20241109_155201_561275_left.jpg     left\n",
       "0     20241109_173502_065252_right.jpg    right\n",
       "0      20241109_153901_283809_left.jpg     left\n",
       "..                                 ...      ...\n",
       "0      20241109_154113_051575_left.jpg     left\n",
       "0     20241109_153238_569342_right.jpg    right\n",
       "0   20241109_154012_547144_forward.jpg  forward\n",
       "0      20241109_155215_628791_left.jpg     left\n",
       "0   20241109_153224_582456_forward.jpg  forward\n",
       "\n",
       "[1264 rows x 2 columns]"
      ]
     },
     "execution_count": 23,
     "metadata": {},
     "output_type": "execute_result"
    }
   ],
   "source": [
    "train_df = pd.DataFrame(columns=[\"filename\",\"label\"])\n",
    "\n",
    "for file in os.listdir(\"data/train/\"):\n",
    "    new_row = pd.DataFrame({\"filename\":[file],\"label\":[file.split(\"_\")[3].split(\".\")[0]]})\n",
    "    train_df = pd.concat([train_df,new_row], axis=0)\n",
    "\n",
    "train_df"
   ]
  },
  {
   "cell_type": "code",
   "execution_count": 24,
   "id": "a871186f-ecae-472d-ba7b-c2a1f290df7a",
   "metadata": {},
   "outputs": [
    {
     "data": {
      "text/html": [
       "<div>\n",
       "<style scoped>\n",
       "    .dataframe tbody tr th:only-of-type {\n",
       "        vertical-align: middle;\n",
       "    }\n",
       "\n",
       "    .dataframe tbody tr th {\n",
       "        vertical-align: top;\n",
       "    }\n",
       "\n",
       "    .dataframe thead th {\n",
       "        text-align: right;\n",
       "    }\n",
       "</style>\n",
       "<table border=\"1\" class=\"dataframe\">\n",
       "  <thead>\n",
       "    <tr style=\"text-align: right;\">\n",
       "      <th></th>\n",
       "      <th>filename</th>\n",
       "      <th>label</th>\n",
       "    </tr>\n",
       "  </thead>\n",
       "  <tbody>\n",
       "    <tr>\n",
       "      <th>0</th>\n",
       "      <td>20241109_173302_612068_right.jpg</td>\n",
       "      <td>right</td>\n",
       "    </tr>\n",
       "    <tr>\n",
       "      <th>0</th>\n",
       "      <td>20241109_153151_795801_forward.jpg</td>\n",
       "      <td>forward</td>\n",
       "    </tr>\n",
       "    <tr>\n",
       "      <th>0</th>\n",
       "      <td>20241109_154142_384181_right.jpg</td>\n",
       "      <td>right</td>\n",
       "    </tr>\n",
       "    <tr>\n",
       "      <th>0</th>\n",
       "      <td>20241109_173240_144931_right.jpg</td>\n",
       "      <td>right</td>\n",
       "    </tr>\n",
       "    <tr>\n",
       "      <th>0</th>\n",
       "      <td>20241109_153856_455214_forward.jpg</td>\n",
       "      <td>forward</td>\n",
       "    </tr>\n",
       "    <tr>\n",
       "      <th>...</th>\n",
       "      <td>...</td>\n",
       "      <td>...</td>\n",
       "    </tr>\n",
       "    <tr>\n",
       "      <th>0</th>\n",
       "      <td>20241109_155006_260898_left.jpg</td>\n",
       "      <td>left</td>\n",
       "    </tr>\n",
       "    <tr>\n",
       "      <th>0</th>\n",
       "      <td>20241109_154224_288458_left.jpg</td>\n",
       "      <td>left</td>\n",
       "    </tr>\n",
       "    <tr>\n",
       "      <th>0</th>\n",
       "      <td>20241109_173246_678304_right.jpg</td>\n",
       "      <td>right</td>\n",
       "    </tr>\n",
       "    <tr>\n",
       "      <th>0</th>\n",
       "      <td>20241109_155027_484772_left.jpg</td>\n",
       "      <td>left</td>\n",
       "    </tr>\n",
       "    <tr>\n",
       "      <th>0</th>\n",
       "      <td>20241109_153814_485375_forward.jpg</td>\n",
       "      <td>forward</td>\n",
       "    </tr>\n",
       "  </tbody>\n",
       "</table>\n",
       "<p>317 rows × 2 columns</p>\n",
       "</div>"
      ],
      "text/plain": [
       "                              filename    label\n",
       "0     20241109_173302_612068_right.jpg    right\n",
       "0   20241109_153151_795801_forward.jpg  forward\n",
       "0     20241109_154142_384181_right.jpg    right\n",
       "0     20241109_173240_144931_right.jpg    right\n",
       "0   20241109_153856_455214_forward.jpg  forward\n",
       "..                                 ...      ...\n",
       "0      20241109_155006_260898_left.jpg     left\n",
       "0      20241109_154224_288458_left.jpg     left\n",
       "0     20241109_173246_678304_right.jpg    right\n",
       "0      20241109_155027_484772_left.jpg     left\n",
       "0   20241109_153814_485375_forward.jpg  forward\n",
       "\n",
       "[317 rows x 2 columns]"
      ]
     },
     "execution_count": 24,
     "metadata": {},
     "output_type": "execute_result"
    }
   ],
   "source": [
    "test_df = pd.DataFrame(columns=[\"filename\",\"label\"])\n",
    "\n",
    "for file in os.listdir(\"data/test/\"):\n",
    "    new_row = pd.DataFrame({\"filename\":[file],\"label\":[file.split(\"_\")[3].split(\".\")[0]]})\n",
    "    test_df = pd.concat([test_df,new_row], axis=0)\n",
    "\n",
    "test_df"
   ]
  },
  {
   "cell_type": "code",
   "execution_count": 27,
   "id": "fc2648f5-ae51-416d-ae7a-a6fff76eea0d",
   "metadata": {},
   "outputs": [],
   "source": [
    "def convert_class_label(label):\n",
    "\n",
    "    if label==\"left\":\n",
    "        return \"0\"\n",
    "    elif label==\"forward\":\n",
    "        return \"1\"\n",
    "    elif label==\"right\":\n",
    "        return \"2\"\n",
    "    else:\n",
    "        print(f\"There was a problem with label {label}!\")\n",
    "\n",
    "train_df[\"label\"] = train_df[\"label\"].apply(convert_class_label)\n",
    "test_df[\"label\"] = test_df[\"label\"].apply(convert_class_label)"
   ]
  },
  {
   "cell_type": "code",
   "execution_count": 28,
   "id": "71b2a7ff-f926-4801-b335-f2bfceb26e23",
   "metadata": {},
   "outputs": [
    {
     "data": {
      "text/html": [
       "<div>\n",
       "<style scoped>\n",
       "    .dataframe tbody tr th:only-of-type {\n",
       "        vertical-align: middle;\n",
       "    }\n",
       "\n",
       "    .dataframe tbody tr th {\n",
       "        vertical-align: top;\n",
       "    }\n",
       "\n",
       "    .dataframe thead th {\n",
       "        text-align: right;\n",
       "    }\n",
       "</style>\n",
       "<table border=\"1\" class=\"dataframe\">\n",
       "  <thead>\n",
       "    <tr style=\"text-align: right;\">\n",
       "      <th></th>\n",
       "      <th>filename</th>\n",
       "      <th>label</th>\n",
       "    </tr>\n",
       "  </thead>\n",
       "  <tbody>\n",
       "    <tr>\n",
       "      <th>0</th>\n",
       "      <td>20241109_154140_357465_left.jpg</td>\n",
       "      <td>0</td>\n",
       "    </tr>\n",
       "    <tr>\n",
       "      <th>0</th>\n",
       "      <td>20241109_153244_515614_forward.jpg</td>\n",
       "      <td>1</td>\n",
       "    </tr>\n",
       "    <tr>\n",
       "      <th>0</th>\n",
       "      <td>20241109_155201_561275_left.jpg</td>\n",
       "      <td>0</td>\n",
       "    </tr>\n",
       "  </tbody>\n",
       "</table>\n",
       "</div>"
      ],
      "text/plain": [
       "                             filename label\n",
       "0     20241109_154140_357465_left.jpg     0\n",
       "0  20241109_153244_515614_forward.jpg     1\n",
       "0     20241109_155201_561275_left.jpg     0"
      ]
     },
     "execution_count": 28,
     "metadata": {},
     "output_type": "execute_result"
    }
   ],
   "source": [
    "train_df.head(3)"
   ]
  },
  {
   "cell_type": "code",
   "execution_count": 29,
   "id": "ef186a41-0811-408e-9054-e4d2017d704e",
   "metadata": {},
   "outputs": [],
   "source": [
    "train_df.to_csv(\"train_labels.csv\",index=False)\n",
    "test_df.to_csv(\"test_labels.csv\", index=False)"
   ]
  }
 ],
 "metadata": {
  "kernelspec": {
   "display_name": "Python 3 (ipykernel)",
   "language": "python",
   "name": "python3"
  },
  "language_info": {
   "codemirror_mode": {
    "name": "ipython",
    "version": 3
   },
   "file_extension": ".py",
   "mimetype": "text/x-python",
   "name": "python",
   "nbconvert_exporter": "python",
   "pygments_lexer": "ipython3",
   "version": "3.10.12"
  }
 },
 "nbformat": 4,
 "nbformat_minor": 5
}
